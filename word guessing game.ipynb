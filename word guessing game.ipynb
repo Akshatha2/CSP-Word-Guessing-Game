{
 "cells": [
  {
   "cell_type": "code",
   "execution_count": 4,
   "id": "01c942e1-f6e1-46e4-9ee0-182f0273f8a9",
   "metadata": {},
   "outputs": [
    {
     "name": "stdout",
     "output_type": "stream",
     "text": [
      "* * * * * * * * * * * * * * * * * * * * *\n",
      "*   Welcome to the Word Guessing Game!  *\n",
      "*   Guess the 5-letter word!            *\n",
      "*   You have 6 attempts!                *\n",
      "* * * * * * * * * * * * * * * * * * * * *\n",
      "\n",
      "\n"
     ]
    },
    {
     "name": "stdin",
     "output_type": "stream",
     "text": [
      "Enter your guess:  audio\n"
     ]
    },
    {
     "name": "stdout",
     "output_type": "stream",
     "text": [
      "Incorrect guess!\n",
      "Word: _ _ d _ * \n",
      "Attempts remaining: 5\n",
      "\n",
      "\n"
     ]
    },
    {
     "name": "stdin",
     "output_type": "stream",
     "text": [
      "Enter your guess:  parse\n"
     ]
    },
    {
     "name": "stdout",
     "output_type": "stream",
     "text": [
      "Incorrect guess!\n",
      "Word: _ _ _ _ _ \n",
      "Attempts remaining: 4\n",
      "\n",
      "\n"
     ]
    },
    {
     "name": "stdin",
     "output_type": "stream",
     "text": [
      "Enter your guess:  cadet\n"
     ]
    },
    {
     "name": "stdout",
     "output_type": "stream",
     "text": [
      "Incorrect guess!\n",
      "Word: _ _ d _ _ \n",
      "Attempts remaining: 3\n",
      "\n",
      "\n"
     ]
    },
    {
     "name": "stdin",
     "output_type": "stream",
     "text": [
      "Enter your guess:  radon\n"
     ]
    },
    {
     "name": "stdout",
     "output_type": "stream",
     "text": [
      "Incorrect guess!\n",
      "Word: _ _ d * _ \n",
      "Attempts remaining: 2\n",
      "\n",
      "\n"
     ]
    },
    {
     "name": "stdin",
     "output_type": "stream",
     "text": [
      "Enter your guess:  hoden\n"
     ]
    },
    {
     "name": "stdout",
     "output_type": "stream",
     "text": [
      "Incorrect guess!\n",
      "Word: _ * d _ _ \n",
      "Attempts remaining: 1\n",
      "\n",
      "\n"
     ]
    },
    {
     "name": "stdin",
     "output_type": "stream",
     "text": [
      "Enter your guess:  olden\n"
     ]
    },
    {
     "name": "stdout",
     "output_type": "stream",
     "text": [
      "Incorrect guess!\n",
      "Word: o * d _ _ \n",
      "Attempts remaining: 0\n",
      "\n",
      "\n",
      "Game over! You ran out of attempts.\n",
      "The word was: oddly\n"
     ]
    }
   ],
   "source": [
    "import random\n",
    "\n",
    "def choose_word():\n",
    "    words = [\"windy\", \"dusty\", \"sally\", \"igloo\", \"nerdy\", \"jewel\", \"shone\", \"whale\", \"hymen\", \"abuse\", \"fugue\", \"elbow\", \"crumb\", \"pansy\", \"welsh\", \"syrup\", \"terse\", \"suave\", \"gamut\", \"swung\", \"drake\", \"freed\", \"afire\", \"shirt\", \"grout\", \"oddly\", \"tithe\", \"plaid\", \"dummy\", \"broom\", \"blind\", \"torch\", \"enemy\", \"again\", \"tying\", \"pesky\", \"alter\", \"gazer\", \"noble\", \"ethos\", \"bride\", \"extol\", \"decor\", \"hobby\", \"beast\", \"idiom\", \"utter\", \"these\", \"sixth\", \"alarm\", \"erase\", \"elegy\", \"spunk\", \"piper\", \"scaly\", \"scold\", \"hefty\", \"chick\", \"sooty\", \"canal\", \"whiny\", \"slash\", \"quake\", \"joint\", \"swept\", \"prude\", \"heavy\", \"wield\", \"femme\", \"lasso\", \"maize\", \"shale\", \"screw\", \"spree\", \"smoky\", \"whiff\", \"scent\", \"glade\", \"spent\", \"prism\", \"stoke\", \"riper\", \"orbit\", \"cocoa\", \"guilt\", \"humus\", \"shush\", \"table\", \"smirk\", \"wrong\", \"noisy\", \"alert\", \"shiny\", \"elate\", \"resin\", \"whole\", \"hunch\", \"pixel\", \"polar\", \"hotel\", \"sword\", \"cleat\", \"mango\", \"rumba\", \"puffy\", \"filly\", \"billy\", \"leash\", \"clout\", \"dance\", \"ovate\", \"facet\", \"chili\", \"paint\", \"liner\", \"curio\", \"salty\", \"audio\", \"snake\", \"fable\", \"cloak\", \"navel\", \"spurt\", \"pesto\", \"balmy\", \"flash\", \"unwed\", \"early\", \"churn\", \"weedy\", \"stump\", \"lease\"]\n",
    "    five_letter_words = [word for word in words if len(word) == 5]\n",
    "    return random.choice(five_letter_words)\n",
    "\n",
    "def play_game():\n",
    "    word = choose_word()\n",
    "    attempts = 6\n",
    "\n",
    "    print(\"* * * * * * * * * * * * * * * * * * * * *\")\n",
    "    print(\"*   Welcome to the Word Guessing Game!  *\")\n",
    "    print(\"*   Guess the 5-letter word!            *\")\n",
    "    print(\"*   You have 6 attempts!                *\")\n",
    "    print(\"* * * * * * * * * * * * * * * * * * * * *\")\n",
    "    print(\"\\n\")\n",
    "\n",
    "    while attempts > 0:\n",
    "        guess = input(\"Enter your guess: \").lower()\n",
    "\n",
    "        if len(guess) != 5:\n",
    "            print(\"Invalid guess length! The word has 5 letters.\")\n",
    "            print(\"\\n\")\n",
    "            continue\n",
    "\n",
    "        attempts -= 1\n",
    "\n",
    "        if guess == word:\n",
    "            print(\"Congratulations!\")\n",
    "            print(\"You guessed the word:\", word)\n",
    "            print(\"\\n\")\n",
    "            break\n",
    "\n",
    "        display_word = \"\"\n",
    "\n",
    "        for i in range(5):\n",
    "            if guess[i] == word[i]:\n",
    "                display_word += guess[i] + \" \"\n",
    "            elif guess[i] in word and guess.count(guess[i]) <= word.count(guess[i]):\n",
    "                display_word += \"* \"\n",
    "            else:\n",
    "                display_word += \"_ \"\n",
    "\n",
    "        print(\"Incorrect guess!\")\n",
    "        print(\"Word:\", display_word)\n",
    "        print(\"Attempts remaining:\", attempts)\n",
    "        print(\"\\n\")\n",
    "\n",
    "    if attempts == 0:\n",
    "        print(\"Game over! You ran out of attempts.\")\n",
    "        print(\"The word was:\", word)\n",
    "\n",
    "play_game()"
   ]
  },
  {
   "cell_type": "code",
   "execution_count": null,
   "id": "ae1bd979-fbdd-4254-8f41-36b52c559d7c",
   "metadata": {},
   "outputs": [],
   "source": []
  }
 ],
 "metadata": {
  "kernelspec": {
   "display_name": "Python 3 (ipykernel)",
   "language": "python",
   "name": "python3"
  },
  "language_info": {
   "codemirror_mode": {
    "name": "ipython",
    "version": 3
   },
   "file_extension": ".py",
   "mimetype": "text/x-python",
   "name": "python",
   "nbconvert_exporter": "python",
   "pygments_lexer": "ipython3",
   "version": "3.9.12"
  }
 },
 "nbformat": 4,
 "nbformat_minor": 5
}
